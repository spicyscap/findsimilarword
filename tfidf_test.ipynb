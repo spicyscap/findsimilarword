{
 "cells": [
  {
   "cell_type": "markdown",
   "metadata": {},
   "source": [
    "# Scikit-learn TF-IDF"
   ]
  },
  {
   "cell_type": "code",
   "execution_count": 8,
   "metadata": {
    "collapsed": false,
    "scrolled": true
   },
   "outputs": [
    {
     "data": {
      "text/plain": [
       "array([[0, 1, 1, 1, 0, 0, 1, 0, 1],\n",
       "       [0, 1, 0, 1, 0, 2, 1, 0, 1],\n",
       "       [1, 0, 0, 0, 1, 0, 1, 1, 0],\n",
       "       [0, 1, 1, 1, 0, 0, 1, 0, 1]], dtype=int64)"
      ]
     },
     "execution_count": 8,
     "metadata": {},
     "output_type": "execute_result"
    }
   ],
   "source": [
    "from sklearn.feature_extraction.text import CountVectorizer\n",
    "vectorizer = CountVectorizer()\n",
    "corpus = [' This is the first document. ',\\\n",
    "      ' This is the second second document. ',\\\n",
    "      ' And the third one. ',\\\n",
    "      ' Is this the first document? ',\n",
    "]\n",
    "X = vectorizer.fit_transform(corpus)  #fit_transform函數將文本中的[詞語]轉換為詞頻矩陣\n",
    "X.toarray()  #toarray()可看到詞頻矩陣的結果"
   ]
  },
  {
   "cell_type": "code",
   "execution_count": 11,
   "metadata": {
    "collapsed": false,
    "scrolled": true
   },
   "outputs": [
    {
     "data": {
      "text/plain": [
       "[u'and',\n",
       " u'document',\n",
       " u'first',\n",
       " u'is',\n",
       " u'one',\n",
       " u'second',\n",
       " u'the',\n",
       " u'third',\n",
       " u'this']"
      ]
     },
     "execution_count": 11,
     "metadata": {},
     "output_type": "execute_result"
    }
   ],
   "source": [
    "vectorizer.get_feature_names()  #get_feature_names()可看到所有文本的關鍵字"
   ]
  },
  {
   "cell_type": "code",
   "execution_count": 17,
   "metadata": {
    "collapsed": false,
    "scrolled": true
   },
   "outputs": [
    {
     "data": {
      "text/plain": [
       "array([[ 0.85151335,  0.        ,  0.52433293],\n",
       "       [ 1.        ,  0.        ,  0.        ],\n",
       "       [ 1.        ,  0.        ,  0.        ],\n",
       "       [ 1.        ,  0.        ,  0.        ],\n",
       "       [ 0.55422893,  0.83236428,  0.        ],\n",
       "       [ 0.63035731,  0.        ,  0.77630514]])"
      ]
     },
     "execution_count": 17,
     "metadata": {},
     "output_type": "execute_result"
    }
   ],
   "source": [
    "from sklearn.feature_extraction.text import TfidfTransformer\n",
    "transformer = TfidfTransformer()\n",
    "counts = [[ 3 , 0 , 1 ],\\\n",
    "            [ 2 , 0 , 0 ],\\\n",
    "            [ 3 , 0 , 0 ],\\\n",
    "            [ 4 , 0 , 0 ],\\\n",
    "            [ 3 , 2 , 0 ],\\\n",
    "            [ 3 , 0 , 2 ]]\n",
    "tfidf = transformer.fit_transform ( counts )\n",
    "tfidf.toarray ()   "
   ]
  },
  {
   "cell_type": "code",
   "execution_count": 77,
   "metadata": {
    "collapsed": false
   },
   "outputs": [
    {
     "name": "stdout",
     "output_type": "stream",
     "text": [
      "-------这里输出第 0 类文本的词语tf-idf权重------\n",
      "中國 0.0\n",
      "來到 0.52640543361\n",
      "北京 0.52640543361\n",
      "大厦 0.0\n",
      "天安門 0.0\n",
      "小明 0.0\n",
      "杭研 0.0\n",
      "清華大學 0.66767854461\n",
      "畢業 0.0\n",
      "碩士 0.0\n",
      "科學院 0.0\n",
      "網易 0.0\n",
      "-------这里输出第 1 类文本的词语tf-idf权重------\n",
      "中國 0.0\n",
      "來到 0.414288751166\n",
      "北京 0.0\n",
      "大厦 0.525472749264\n",
      "天安門 0.0\n",
      "小明 0.0\n",
      "杭研 0.525472749264\n",
      "清華大學 0.0\n",
      "畢業 0.0\n",
      "碩士 0.0\n",
      "科學院 0.0\n",
      "網易 0.525472749264\n",
      "-------这里输出第 2 类文本的词语tf-idf权重------\n",
      "中國 0.4472135955\n",
      "來到 0.0\n",
      "北京 0.0\n",
      "大厦 0.0\n",
      "天安門 0.0\n",
      "小明 0.4472135955\n",
      "杭研 0.0\n",
      "清華大學 0.0\n",
      "畢業 0.4472135955\n",
      "碩士 0.4472135955\n",
      "科學院 0.4472135955\n",
      "網易 0.0\n",
      "-------这里输出第 3 类文本的词语tf-idf权重------\n",
      "中國 0.0\n",
      "來到 0.0\n",
      "北京 0.61913029649\n",
      "大厦 0.0\n",
      "天安門 0.78528827571\n",
      "小明 0.0\n",
      "杭研 0.0\n",
      "清華大學 0.0\n",
      "畢業 0.0\n",
      "碩士 0.0\n",
      "科學院 0.0\n",
      "網易 0.0\n"
     ]
    }
   ],
   "source": [
    "from sklearn import feature_extraction  \n",
    "from sklearn.feature_extraction.text import TfidfTransformer  \n",
    "from sklearn.feature_extraction.text import CountVectorizer\n",
    "corpus=[\"我 來到 北京 清華大學\",\\\n",
    "        \"他 來到 了 網易 杭研 大厦\",\\\n",
    "        \"小明 碩士 畢業 與 中國 科學院\",\\\n",
    "        \"我 愛 北京 天安門\"]\n",
    "vectorizer=CountVectorizer() #該類會將文本中的詞語轉換為詞頻矩陣，矩陣元素a[i][j] 表示j詞在i類文本下的詞頻  \n",
    "x = vectorizer.fit_transform(corpus) #將文本轉為詞頻矩陣 \n",
    "\n",
    "transformer=TfidfTransformer() #該類會統計每個詞語的tf-idf權值 \n",
    "tfidf=transformer.fit_transform(x) #計算tf-idf\n",
    "#print tfidf\n",
    "word=vectorizer.get_feature_names() #獲取詞袋模型中的所有詞語\n",
    "#for i in word:\n",
    "#    print i\n",
    "weight=tfidf.toarray()  #將tf-idf矩陣抽取出來，元素a[i][j]表示j詞在i類文本中的tf-idf權重  \n",
    "#print weight\n",
    "\n",
    "#打印每類文本的tf-idf詞語權重，第一個for遍歷所有文本，第二個for便利某一類文本下的詞語權重\n",
    "for i in range(len(weight)):  \n",
    "    print u\"-------这里输出第\",i,u\"类文本的词语tf-idf权重------\"  \n",
    "    for j in range(len(word)):  \n",
    "        print word[j],weight[i][j]  "
   ]
  },
  {
   "cell_type": "code",
   "execution_count": 46,
   "metadata": {
    "collapsed": false,
    "scrolled": true
   },
   "outputs": [
    {
     "name": "stdout",
     "output_type": "stream",
     "text": [
      "对 p\n",
      "这 r\n",
      "句 q\n",
      "话 n\n",
      "进行 v\n",
      "分词 n\n"
     ]
    }
   ],
   "source": [
    "import jieba.posseg as pseg  \n",
    "words=pseg.cut(\"对这句话进行分词\")  \n",
    "for key in words:  \n",
    "     print key.word,key.flag "
   ]
  },
  {
   "cell_type": "markdown",
   "metadata": {},
   "source": [
    "# Jieba TF-IDF"
   ]
  },
  {
   "cell_type": "code",
   "execution_count": 63,
   "metadata": {
    "collapsed": false,
    "scrolled": true
   },
   "outputs": [
    {
     "name": "stderr",
     "output_type": "stream",
     "text": [
      "Building prefix dict from C:\\Users\\BigData\\dict.big.tra.txt ...\n",
      "DEBUG:jieba:Building prefix dict from C:\\Users\\BigData\\dict.big.tra.txt ...\n",
      "Loading model from cache c:\\users\\bigdata\\appdata\\local\\temp\\jieba.ud8ec30fabaf60e161f06b3552aab2f0e.cache\n",
      "DEBUG:jieba:Loading model from cache c:\\users\\bigdata\\appdata\\local\\temp\\jieba.ud8ec30fabaf60e161f06b3552aab2f0e.cache\n",
      "Loading model cost 0.322 seconds.\n",
      "DEBUG:jieba:Loading model cost 0.322 seconds.\n",
      "Prefix dict has been built succesfully.\n",
      "DEBUG:jieba:Prefix dict has been built succesfully.\n"
     ]
    }
   ],
   "source": [
    "import os\n",
    "import jieba\n",
    "import jieba.analyse\n",
    "import jieba.posseg as pseg  \n",
    "jieba.set_dictionary('dict.big.tra.txt')  #預設字典\n",
    "jieba.load_userdict('dict_twstd_tfidf.txt')  #中文分詞詞庫(TFIDF)\n",
    "jieba.load_userdict('dict_ntusd_pos.txt') #NTUSD_負向\n",
    "jieba.load_userdict('dict_ntusd_nag.txt') #NTUSD_正向\n",
    "jieba.load_userdict('dict_twedu_dict.txt') #教育部《重編國語辭典 修訂本》\n",
    "jieba.analyse.set_stop_words(\"stopwords_1218.txt\") #停用詞\n",
    "#words=jieba.cut(\"屋挖柯文哲\")\n",
    "#for key in words:  \n",
    "#     print key\n",
    "#print ' '.join(words)\n"
   ]
  },
  {
   "cell_type": "code",
   "execution_count": 64,
   "metadata": {
    "collapsed": false,
    "scrolled": true
   },
   "outputs": [
    {
     "name": "stdout",
     "output_type": "stream",
     "text": [
      "101\n",
      "象山\n",
      "夜景\n",
      "大象\n",
      "風景\n",
      "日落\n",
      "城市\n",
      "很棒\n",
      "視圖\n",
      "美景\n"
     ]
    }
   ],
   "source": [
    "#轉換象山資料,並切詞,並使用JIEBA內建的tfidf統計排名\n",
    "f = open('mountain.txt','r')\n",
    "f1 = f.read()\n",
    "f2 = ''.join(f1.split())\n",
    "#print f2\n",
    "words=jieba.cut(f2)\n",
    "n = ' '.join(words)\n",
    "n1 = n.encode('utf-8')\n",
    "f.close()\n",
    "x = jieba.analyse.extract_tags(n1, topK=10)\n",
    "for u in x:\n",
    "    print u"
   ]
  }
 ],
 "metadata": {
  "kernelspec": {
   "display_name": "Python 2",
   "language": "python",
   "name": "python2"
  },
  "language_info": {
   "codemirror_mode": {
    "name": "ipython",
    "version": 2
   },
   "file_extension": ".py",
   "mimetype": "text/x-python",
   "name": "python",
   "nbconvert_exporter": "python",
   "pygments_lexer": "ipython2",
   "version": "2.7.11"
  }
 },
 "nbformat": 4,
 "nbformat_minor": 0
}
