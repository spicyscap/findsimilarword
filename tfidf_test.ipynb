{
 "cells": [
  {
   "cell_type": "markdown",
   "metadata": {},
   "source": [
    "# Scikit-learn TF-IDF"
   ]
  },
  {
   "cell_type": "code",
   "execution_count": 8,
   "metadata": {
    "collapsed": false,
    "scrolled": true
   },
   "outputs": [
    {
     "data": {
      "text/plain": [
       "array([[0, 1, 1, 1, 0, 0, 1, 0, 1],\n",
       "       [0, 1, 0, 1, 0, 2, 1, 0, 1],\n",
       "       [1, 0, 0, 0, 1, 0, 1, 1, 0],\n",
       "       [0, 1, 1, 1, 0, 0, 1, 0, 1]], dtype=int64)"
      ]
     },
     "execution_count": 8,
     "metadata": {},
     "output_type": "execute_result"
    }
   ],
   "source": [
    "from sklearn.feature_extraction.text import CountVectorizer\n",
    "vectorizer = CountVectorizer()\n",
    "corpus = [' This is the first document. ',\\\n",
    "      ' This is the second second document. ',\\\n",
    "      ' And the third one. ',\\\n",
    "      ' Is this the first document? ',\n",
    "]\n",
    "X = vectorizer.fit_transform(corpus)  #fit_transform函數將文本中的[詞語]轉換為詞頻矩陣\n",
    "X.toarray()  #toarray()可看到詞頻矩陣的結果"
   ]
  },
  {
   "cell_type": "code",
   "execution_count": 11,
   "metadata": {
    "collapsed": false,
    "scrolled": true
   },
   "outputs": [
    {
     "data": {
      "text/plain": [
       "[u'and',\n",
       " u'document',\n",
       " u'first',\n",
       " u'is',\n",
       " u'one',\n",
       " u'second',\n",
       " u'the',\n",
       " u'third',\n",
       " u'this']"
      ]
     },
     "execution_count": 11,
     "metadata": {},
     "output_type": "execute_result"
    }
   ],
   "source": [
    "vectorizer.get_feature_names()  #get_feature_names()可看到所有文本的關鍵字"
   ]
  },
  {
   "cell_type": "code",
   "execution_count": 17,
   "metadata": {
    "collapsed": false,
    "scrolled": true
   },
   "outputs": [
    {
     "data": {
      "text/plain": [
       "array([[ 0.85151335,  0.        ,  0.52433293],\n",
       "       [ 1.        ,  0.        ,  0.        ],\n",
       "       [ 1.        ,  0.        ,  0.        ],\n",
       "       [ 1.        ,  0.        ,  0.        ],\n",
       "       [ 0.55422893,  0.83236428,  0.        ],\n",
       "       [ 0.63035731,  0.        ,  0.77630514]])"
      ]
     },
     "execution_count": 17,
     "metadata": {},
     "output_type": "execute_result"
    }
   ],
   "source": [
    "from sklearn.feature_extraction.text import TfidfTransformer\n",
    "transformer = TfidfTransformer()\n",
    "counts = [[ 3 , 0 , 1 ],\\\n",
    "            [ 2 , 0 , 0 ],\\\n",
    "            [ 3 , 0 , 0 ],\\\n",
    "            [ 4 , 0 , 0 ],\\\n",
    "            [ 3 , 2 , 0 ],\\\n",
    "            [ 3 , 0 , 2 ]]\n",
    "tfidf = transformer.fit_transform ( counts )\n",
    "tfidf.toarray ()   "
   ]
  },
  {
   "cell_type": "code",
   "execution_count": 77,
   "metadata": {
    "collapsed": false
   },
   "outputs": [
    {
     "name": "stdout",
     "output_type": "stream",
     "text": [
      "-------这里输出第 0 类文本的词语tf-idf权重------\n",
      "中國 0.0\n",
      "來到 0.52640543361\n",
      "北京 0.52640543361\n",
      "大厦 0.0\n",
      "天安門 0.0\n",
      "小明 0.0\n",
      "杭研 0.0\n",
      "清華大學 0.66767854461\n",
      "畢業 0.0\n",
      "碩士 0.0\n",
      "科學院 0.0\n",
      "網易 0.0\n",
      "-------这里输出第 1 类文本的词语tf-idf权重------\n",
      "中國 0.0\n",
      "來到 0.414288751166\n",
      "北京 0.0\n",
      "大厦 0.525472749264\n",
      "天安門 0.0\n",
      "小明 0.0\n",
      "杭研 0.525472749264\n",
      "清華大學 0.0\n",
      "畢業 0.0\n",
      "碩士 0.0\n",
      "科學院 0.0\n",
      "網易 0.525472749264\n",
      "-------这里输出第 2 类文本的词语tf-idf权重------\n",
      "中國 0.4472135955\n",
      "來到 0.0\n",
      "北京 0.0\n",
      "大厦 0.0\n",
      "天安門 0.0\n",
      "小明 0.4472135955\n",
      "杭研 0.0\n",
      "清華大學 0.0\n",
      "畢業 0.4472135955\n",
      "碩士 0.4472135955\n",
      "科學院 0.4472135955\n",
      "網易 0.0\n",
      "-------这里输出第 3 类文本的词语tf-idf权重------\n",
      "中國 0.0\n",
      "來到 0.0\n",
      "北京 0.61913029649\n",
      "大厦 0.0\n",
      "天安門 0.78528827571\n",
      "小明 0.0\n",
      "杭研 0.0\n",
      "清華大學 0.0\n",
      "畢業 0.0\n",
      "碩士 0.0\n",
      "科學院 0.0\n",
      "網易 0.0\n"
     ]
    }
   ],
   "source": [
    "from sklearn import feature_extraction  \n",
    "from sklearn.feature_extraction.text import TfidfTransformer  \n",
    "from sklearn.feature_extraction.text import CountVectorizer\n",
    "corpus=[\"我 來到 北京 清華大學\",\\\n",
    "        \"他 來到 了 網易 杭研 大厦\",\\\n",
    "        \"小明 碩士 畢業 與 中國 科學院\",\\\n",
    "        \"我 愛 北京 天安門\"]\n",
    "vectorizer=CountVectorizer() #該類會將文本中的詞語轉換為詞頻矩陣，矩陣元素a[i][j] 表示j詞在i類文本下的詞頻  \n",
    "x = vectorizer.fit_transform(corpus) #將文本轉為詞頻矩陣 \n",
    "\n",
    "transformer=TfidfTransformer() #該類會統計每個詞語的tf-idf權值 \n",
    "tfidf=transformer.fit_transform(x) #計算tf-idf\n",
    "#print tfidf\n",
    "word=vectorizer.get_feature_names() #獲取詞袋模型中的所有詞語\n",
    "#for i in word:\n",
    "#    print i\n",
    "weight=tfidf.toarray()  #將tf-idf矩陣抽取出來，元素a[i][j]表示j詞在i類文本中的tf-idf權重  \n",
    "#print weight\n",
    "\n",
    "#打印每類文本的tf-idf詞語權重，第一個for遍歷所有文本，第二個for便利某一類文本下的詞語權重\n",
    "for i in range(len(weight)):  \n",
    "    print u\"-------这里输出第\",i,u\"类文本的词语tf-idf权重------\"  \n",
    "    for j in range(len(word)):  \n",
    "        print word[j],weight[i][j]  "
   ]
  },
  {
   "cell_type": "code",
   "execution_count": 46,
   "metadata": {
    "collapsed": false,
    "scrolled": true
   },
   "outputs": [
    {
     "name": "stdout",
     "output_type": "stream",
     "text": [
      "对 p\n",
      "这 r\n",
      "句 q\n",
      "话 n\n",
      "进行 v\n",
      "分词 n\n"
     ]
    }
   ],
   "source": [
    "import jieba.posseg as pseg  \n",
    "words=pseg.cut(\"对这句话进行分词\")  \n",
    "for key in words:  \n",
    "     print key.word,key.flag "
   ]
  },
  {
   "cell_type": "markdown",
   "metadata": {},
   "source": [
    "# Jieba TF-IDF"
   ]
  },
  {
   "cell_type": "code",
   "execution_count": 23,
   "metadata": {
    "collapsed": false,
    "scrolled": true
   },
   "outputs": [
    {
     "name": "stderr",
     "output_type": "stream",
     "text": [
      "Building prefix dict from C:\\Users\\BigData\\dict.big.tra.txt ...\n",
      "DEBUG:jieba:Building prefix dict from C:\\Users\\BigData\\dict.big.tra.txt ...\n",
      "Loading model from cache c:\\users\\bigdata\\appdata\\local\\temp\\jieba.ud8ec30fabaf60e161f06b3552aab2f0e.cache\n",
      "DEBUG:jieba:Loading model from cache c:\\users\\bigdata\\appdata\\local\\temp\\jieba.ud8ec30fabaf60e161f06b3552aab2f0e.cache\n",
      "Loading model cost 0.328 seconds.\n",
      "DEBUG:jieba:Loading model cost 0.328 seconds.\n",
      "Prefix dict has been built succesfully.\n",
      "DEBUG:jieba:Prefix dict has been built succesfully.\n"
     ]
    }
   ],
   "source": [
    "import os\n",
    "import jieba\n",
    "import jieba.analyse\n",
    "import jieba.posseg as pseg  \n",
    "jieba.set_dictionary('dict.big.tra.txt')  #預設字典\n",
    "jieba.load_userdict('dict_twstd_tfidf.txt')  #中文分詞詞庫(TFIDF)\n",
    "jieba.load_userdict('dict_ntusd_pos.txt') #NTUSD_負向\n",
    "jieba.load_userdict('dict_ntusd_nag.txt') #NTUSD_正向\n",
    "jieba.load_userdict('dict_twedu_dict.txt') #教育部《重編國語辭典 修訂本》\n",
    "jieba.analyse.set_stop_words(\"stopwords_1219.txt\") #停用詞\n",
    "#words=jieba.cut(\"屋挖柯文哲\")\n",
    "#for key in words:  \n",
    "#     print key\n",
    "#print ' '.join(words)\n"
   ]
  },
  {
   "cell_type": "code",
   "execution_count": 94,
   "metadata": {
    "collapsed": false,
    "scrolled": true
   },
   "outputs": [
    {
     "name": "stdout",
     "output_type": "stream",
     "text": [
      "101 \t0.259809579914\n",
      "象山 \t0.137258377711\n",
      "夜景 \t0.0763158468684\n",
      "大象 \t0.0743266130663\n",
      "風景 \t0.071712146492\n",
      "日落 \t0.0667439229305\n",
      "城市 \t0.0632460065858\n",
      "很棒 \t0.0623759532887\n",
      "視圖 \t0.0599560569031\n",
      "美景 \t0.0591659591832\n"
     ]
    }
   ],
   "source": [
    "#轉換象山資料,並切詞,並使用JIEBA內建的tfidf統計排名\n",
    "f = open('mountain.txt','r')\n",
    "f1 = f.read()\n",
    "f2 = ''.join(f1.split())\n",
    "#print f2\n",
    "words=jieba.cut(f2)\n",
    "n = ' '.join(words)\n",
    "n1 = n.encode('utf-8')\n",
    "f.close()\n",
    "\n",
    "temp = []\n",
    "temp2 =[]\n",
    "x = jieba.analyse.extract_tags(n1, topK=10, withWeight=True)\n",
    "for u in x:\n",
    "    print u[0],\"\\t\",u[1]\n",
    "    temp.append(u[0].encode('utf-8')) #存詞彙\n",
    "    temp2.append(u[1]) #存權重\n",
    "\n",
    "#統計字頻\n",
    "dic={}\n",
    "for w in n1.split(' '):\n",
    "    if w not in dic:\n",
    "        dic[w] = 1\n",
    "    else:\n",
    "        dic[w] = dic[w] + 1"
   ]
  },
  {
   "cell_type": "code",
   "execution_count": 116,
   "metadata": {
    "collapsed": false,
    "scrolled": true
   },
   "outputs": [
    {
     "name": "stdout",
     "output_type": "stream",
     "text": [
      "總詞量： 4080\n",
      "\n",
      "\n",
      "=========字頻統計(根據jueba TFIDF)=========\n",
      "排名 \t詞彙 \t出現次數    權重 \t\t\t比率\n",
      "- - - - - - - - - - - - - - - - - - - - - - - - - - - -\n",
      "13 \t101 \t221 \t    0.259809579914 \t5.41 %\n",
      "27 \t象山 \t136 \t    0.137258377711 \t3.33 %\n",
      "28 \t城市 \t129 \t    0.0763158468684 \t3.16 %\n",
      "45 \t大象 \t86 \t    0.0743266130663 \t2.1 %\n",
      "50 \t夜景 \t78 \t    0.071712146492 \t1.91 %\n",
      "54 \t日落 \t70 \t    0.0667439229305 \t1.71 %\n",
      "59 \t美景 \t65 \t    0.0632460065858 \t1.59 %\n",
      "65 \t風景 \t61 \t    0.0623759532887 \t1.49 %\n",
      "72 \t很棒 \t57 \t    0.0599560569031 \t1.39 %\n",
      "82 \t視圖 \t51 \t    0.0591659591832 \t1.25 %\n",
      "\n",
      "\n",
      "==========字頻統計==========\n",
      "排名 \t詞彙 \t字頻\n",
      "- - - - - - - - - - - - - - \n",
      "1 \t的 \t2182\n",
      "2 \t。 \t1548\n",
      "3 \t, \t830\n",
      "4 \t和 \t491\n",
      "5 \t一個 \t403\n",
      "6 \t， \t396\n",
      "7 \t在 \t384\n",
      "8 \t是 \t359\n",
      "9 \t我 \t347\n",
      "10 \t臺北 \t288\n",
      "- - - - - - - - - - - - - - \n",
      "11 \t你 \t280\n",
      "12 \t有 \t262\n",
      "13 \t101 \t221\n",
      "14 \t了 \t212\n",
      "15 \t它 \t205\n",
      "16 \t我們 \t201\n",
      "17 \t可以 \t194\n",
      "18 \t到 \t184\n",
      "19 \t！ \t175\n",
      "20 \t您 \t170\n",
      "- - - - - - - - - - - - - - \n",
      "21 \t但 \t155\n",
      "22 \t很 \t154\n",
      "23 \t去 \t153\n",
      "24 \t爲 \t152\n",
      "25 \t如果 \t147\n",
      "26 \t裏 \t146\n",
      "27 \t象山 \t136\n",
      "28 \t城市 \t129\n",
      "29 \t這 \t126\n",
      "30 \t地方 \t126\n",
      "- - - - - - - - - - - - - - \n",
      "31 \t看到 \t123\n",
      "32 \t這是 \t116\n",
      "33 \t從 \t116\n",
      "34 \t分鐘 \t114\n",
      "35 \t） \t106\n",
      "36 \t（ \t102\n",
      "37 \t- \t101\n",
      "38 \t人 \t97\n",
      "39 \t爬 \t97\n",
      "40 \t要 \t94\n",
      "- - - - - - - - - - - - - - \n",
      "41 \t非常 \t93\n",
      "42 \t景色 \t92\n",
      "43 \t很多 \t91\n",
      "44 \t值得 \t89\n",
      "45 \t大象 \t86\n",
      "46 \t步道 \t84\n",
      "47 \t上 \t83\n",
      "48 \t但是 \t82\n",
      "49 \t走 \t80\n",
      "50 \t夜景 \t78\n",
      "- - - - - - - - - - - - - - \n"
     ]
    }
   ],
   "source": [
    "import operator\n",
    "words_freq = sorted(dic.iteritems(),key=operator.itemgetter(1),reverse=True)\n",
    "print \"總詞量：\",len(words_freq)\n",
    "print '\\n'\n",
    "\n",
    "#根據Jieba tf-idf去看字頻排名\n",
    "print \"=========字頻統計(根據jueba TFIDF)=========\"\n",
    "print \"排名\",\"\\t\",\"詞彙\",\"\\t\",\"出現次數\",\"  \",\"權重\",\"\\t\\t\\t\",\"比率\"\n",
    "print \"- - - - - - - - - - - - - - - - - - - - - - - - - - - -\"\n",
    "num = 0\n",
    "num3 = -1\n",
    "for ele in words_freq:\n",
    "    num += 1\n",
    "    if ele[0] in temp:\n",
    "        num3 += 1\n",
    "        print num,\"\\t\",ele[0],\"\\t\",ele[1],\"\\t\",\"   \",temp2[num3],\\\n",
    "        \"\\t\",float(int(( float(ele[1]) / float(len(words_freq)) ) *10000))/100,'%'\n",
    "\n",
    "print '\\n'\n",
    "\n",
    "#列出原始字頻排名\n",
    "print \"==========字頻統計==========\"\n",
    "print \"排名\",\"\\t\",\"詞彙\",\"\\t\",\"字頻\"\n",
    "print \"- - - - - - - - - - - - - - \"\n",
    "num2 = 0\n",
    "for ele in words_freq[0:50]:\n",
    "    num2 += 1\n",
    "    print num2,\"\\t\",ele[0],\"\\t\",ele[1]\n",
    "    if num2 % 10 == 0:\n",
    "        print \"- - - - - - - - - - - - - - \""
   ]
  },
  {
   "cell_type": "code",
   "execution_count": null,
   "metadata": {
    "collapsed": false
   },
   "outputs": [],
   "source": []
  }
 ],
 "metadata": {
  "kernelspec": {
   "display_name": "Python 2",
   "language": "python",
   "name": "python2"
  },
  "language_info": {
   "codemirror_mode": {
    "name": "ipython",
    "version": 2
   },
   "file_extension": ".py",
   "mimetype": "text/x-python",
   "name": "python",
   "nbconvert_exporter": "python",
   "pygments_lexer": "ipython2",
   "version": "2.7.11"
  }
 },
 "nbformat": 4,
 "nbformat_minor": 0
}
