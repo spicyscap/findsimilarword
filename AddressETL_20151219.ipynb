{
 "cells": [
  {
   "cell_type": "code",
   "execution_count": 73,
   "metadata": {
    "collapsed": false
   },
   "outputs": [
    {
     "name": "stdout",
     "output_type": "stream",
     "text": [
      "士林區,台北市士林區至善路二段221號\n",
      "台北市士林區至善路2段\n"
     ]
    }
   ],
   "source": [
    "import re\n",
    "test = \"台北市士林區至善路二段221號\"\n",
    "#取出行政區\n",
    "if re.search('(台|臺)(北市)(.*)(區)(.*)',test):\n",
    "    x = re.search('(台|臺)(北市)(.*)(區)(.*)',test)\n",
    "    y = x.group(3)+x.group(4)\n",
    "    print y+\",\"+test\n",
    "\n",
    "#轉換段的中文數字\n",
    "if re.search('(台|臺)(北市)(.*)(一|二|三|四|五|六|七|八|九|十)(段)(.*)',test):\n",
    "    x = re.search('(台|臺)(北市)(.*)(一|二|三|四|五|六|七|八|九|十)(段)(.*)',test)\n",
    "    dic = {\"一\":\"1\",\"二\":\"2\",\"三\":\"3\",\"四\":\"4\",\"五\":\"5\",\\\n",
    "    \"六\":\"6\",\"七\":\"7\",\"八\":\"8\",\"九\":\"9\",\"十\":\"10\"}\n",
    "    if x.group(4) in dic:\n",
    "        z = dic[x.group(4)]\n",
    "        print x.group(1)+x.group(2)+x.group(3)+z+x.group(5)"
   ]
  }
 ],
 "metadata": {
  "kernelspec": {
   "display_name": "Python 2",
   "language": "python",
   "name": "python2"
  },
  "language_info": {
   "codemirror_mode": {
    "name": "ipython",
    "version": 2
   },
   "file_extension": ".py",
   "mimetype": "text/x-python",
   "name": "python",
   "nbconvert_exporter": "python",
   "pygments_lexer": "ipython2",
   "version": "2.7.11"
  }
 },
 "nbformat": 4,
 "nbformat_minor": 0
}
