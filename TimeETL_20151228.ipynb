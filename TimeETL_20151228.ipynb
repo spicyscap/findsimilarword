{
 "cells": [
  {
   "cell_type": "code",
   "execution_count": 62,
   "metadata": {
    "collapsed": false
   },
   "outputs": [],
   "source": [
    "def timeToNum(st,splitsymbol):\n",
    "    import re\n",
    "    if len(st.split(splitsymbol))>1:\n",
    "        x1 = re.match('(\\d*)(:*)(\\d*)',st.split(splitsymbol)[0])\n",
    "        y1 = re.match('(\\d*)(:*)(\\d*)',st.split(splitsymbol)[1])\n",
    "        a1 = []\n",
    "        for i in range(1,int(x.group(1))):\n",
    "            a1.append(0)\n",
    "        for l in range(int(x.group(1)),int(y.group(1))+1):\n",
    "            a1.append(1)\n",
    "        for j in range(int(y.group(1)),24):\n",
    "            a1.append(0)\n",
    "        print a1"
   ]
  },
  {
   "cell_type": "code",
   "execution_count": 65,
   "metadata": {
    "collapsed": false
   },
   "outputs": [
    {
     "name": "stdout",
     "output_type": "stream",
     "text": [
      "[0, 0, 0, 0, 0, 0, 0, 0, 1, 1, 1, 1, 1, 1, 1, 1, 1, 0, 0, 0, 0, 0, 0, 0]\n"
     ]
    }
   ],
   "source": [
    "timeToNum('09:00~17:00','~')"
   ]
  }
 ],
 "metadata": {
  "kernelspec": {
   "display_name": "Python 2",
   "language": "python",
   "name": "python2"
  },
  "language_info": {
   "codemirror_mode": {
    "name": "ipython",
    "version": 2
   },
   "file_extension": ".py",
   "mimetype": "text/x-python",
   "name": "python",
   "nbconvert_exporter": "python",
   "pygments_lexer": "ipython2",
   "version": "2.7.11"
  }
 },
 "nbformat": 4,
 "nbformat_minor": 0
}
