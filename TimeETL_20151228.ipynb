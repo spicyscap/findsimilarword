{
 "cells": [
  {
   "cell_type": "code",
   "execution_count": 66,
   "metadata": {
    "collapsed": false
   },
   "outputs": [],
   "source": [
    "def onetime(st,splitsymbol):\n",
    "    import re\n",
    "    if len(st.split(splitsymbol))>1:\n",
    "        x = re.match('(\\d*)(:*)(\\d*)',st.split(splitsymbol)[0])\n",
    "        y = re.match('(\\d*)(:*)(\\d*)',st.split(splitsymbol)[1])\n",
    "        a1 = []\n",
    "        for i in range(1,int(x.group(1))):\n",
    "            a1.append(0)\n",
    "        for l in range(int(x.group(1)),int(y.group(1))+1):\n",
    "            a1.append(1)\n",
    "        for j in range(int(y.group(1)),24):\n",
    "            a1.append(0)\n",
    "        return a1\n",
    "        #return len(a1)\n",
    "        \n",
    "def twotime(t1,t2,splitsymbol):\n",
    "    a = onetime(t1,splitsymbol)\n",
    "    b = onetime(t2,splitsymbol)\n",
    "    #print a\n",
    "    #print b\n",
    "    x1 = []\n",
    "    for i in range(0,len(a)):\n",
    "        x1.append(a[i]+b[i])\n",
    "    return x1"
   ]
  },
  {
   "cell_type": "code",
   "execution_count": 67,
   "metadata": {
    "collapsed": false
   },
   "outputs": [
    {
     "name": "stdout",
     "output_type": "stream",
     "text": [
      "[0, 0, 0, 0, 0, 0, 0, 0, 1, 1, 1, 1, 1, 1, 1, 1, 1, 0, 0, 0, 0, 0, 0, 0]\n",
      "[0, 0, 0, 0, 0, 0, 0, 0, 1, 1, 1, 0, 0, 0, 1, 1, 1, 1, 1, 0, 0, 0, 0, 0]\n"
     ]
    }
   ],
   "source": [
    "print onetime('09:00-17:00','-')\n",
    "print twotime('09:00~11:00','15:00~19:00','~')"
   ]
  },
  {
   "cell_type": "code",
   "execution_count": null,
   "metadata": {
    "collapsed": true
   },
   "outputs": [],
   "source": [
    "f= open('122822f2sdfsdfsds.txt','w')\n",
    "f.write(str(onetime('09:00-17:00','-')))\n",
    "f.close()"
   ]
  }
 ],
 "metadata": {
  "kernelspec": {
   "display_name": "Python 2",
   "language": "python",
   "name": "python2"
  },
  "language_info": {
   "codemirror_mode": {
    "name": "ipython",
    "version": 2
   },
   "file_extension": ".py",
   "mimetype": "text/x-python",
   "name": "python",
   "nbconvert_exporter": "python",
   "pygments_lexer": "ipython2",
   "version": "2.7.11"
  }
 },
 "nbformat": 4,
 "nbformat_minor": 0
}
